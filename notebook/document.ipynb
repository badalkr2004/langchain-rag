{
 "cells": [
  {
   "cell_type": "markdown",
   "id": "c24435d6",
   "metadata": {},
   "source": [
    "### Data Ingestion\n"
   ]
  },
  {
   "cell_type": "code",
   "execution_count": 1,
   "id": "5315c6ce",
   "metadata": {},
   "outputs": [],
   "source": [
    "### Document  structure\n",
    "\n",
    "from langchain_core.documents import Document"
   ]
  },
  {
   "cell_type": "code",
   "execution_count": null,
   "id": "458af860",
   "metadata": {},
   "outputs": [
    {
     "data": {
      "text/plain": [
       "Document(metadata={'source': 'example.txt', 'pages': 1, 'author': 'Badal Kumar', 'date_created': '2025-01-01'}, page_content='this is the example test content for testing the document loader')"
      ]
     },
     "execution_count": 2,
     "metadata": {},
     "output_type": "execute_result"
    }
   ],
   "source": [
    "doc = Document(\n",
    "    page_content=\"this is the example test content for testing the document loader\",\n",
    "    metadata={\n",
    "        \"source\": \"example.txt\",\n",
    "        \"pages\": 1,\n",
    "        \"author\": \"Badal Kumar\",\n",
    "        \"date_created\": \"2025-01-01\",\n",
    "    },\n",
    ")\n",
    "doc"
   ]
  },
  {
   "cell_type": "code",
   "execution_count": null,
   "id": "dc620da0",
   "metadata": {},
   "outputs": [],
   "source": [
    "## create a simple txt file\n",
    "import os\n",
    "\n",
    "os.makedirs(\"../data/text_files\", exist_ok=True)"
   ]
  },
  {
   "cell_type": "code",
   "execution_count": null,
   "id": "009b80e0",
   "metadata": {},
   "outputs": [
    {
     "name": "stdout",
     "output_type": "stream",
     "text": [
      "✅ sample text files created!\n"
     ]
    }
   ],
   "source": [
    "sample_texts = {\n",
    "    \"../data/text_files/python_intro.txt\": \"\"\"Introduction to Python\n",
    "\n",
    "Python is a high-level, interpreted, and general-purpose programming language. It was created by Guido van Rossum and first released in 1991. Python emphasizes code readability, using simple syntax that allows programmers to express ideas in fewer lines of code compared to other languages like Java or C++.\n",
    "\n",
    "⚙️ Key Features of Python\n",
    "\n",
    "Easy to Learn and Read – Python’s syntax is close to natural English, making it beginner-friendly.\n",
    "\n",
    "Interpreted Language – You don’t need to compile Python code; it runs line by line.\n",
    "\n",
    "Dynamically Typed – You don’t have to declare variable types explicitly.\n",
    "\n",
    "Extensive Libraries – Python has powerful standard libraries (like math, os, datetime) and third-party ones (NumPy, Pandas, TensorFlow, etc.).\n",
    "\n",
    "Portable and Cross-Platform – The same code can run on Windows, macOS, or Linux.\n",
    "\n",
    "Object-Oriented and Functional – Supports both programming styles.\n",
    "\n",
    "Open Source – Free to use and distribute.\n",
    "\n",
    "💡 What Can You Do with Python?\n",
    "\n",
    "Python is extremely versatile. It’s used in:\n",
    "\n",
    "Web Development → Django, Flask\n",
    "\n",
    "Data Science & Machine Learning → Pandas, NumPy, Scikit-learn, TensorFlow\n",
    "\n",
    "Automation / Scripting → Automating repetitive tasks\n",
    "\n",
    "Game Development → Pygame\n",
    "\n",
    "Cybersecurity → Ethical hacking tools and analysis\n",
    "\n",
    "Artificial Intelligence → Chatbots, NLP, Computer Vision\n",
    "\n",
    "Internet of Things (IoT) → Controlling hardware devices\n",
    "    \n",
    "    \"\"\",\n",
    "    \"../data/text_files/machine_learning_intro.txt\": \"\"\"Machine Learning is a branch of Artificial Intelligence (AI) that focuses on creating systems that can learn from data and improve their performance over time without being explicitly programmed.\n",
    "\n",
    "In traditional programming, a developer writes a set of rules for the computer to follow. In machine learning, instead of giving rules, we feed the computer a large amount of data, and the system automatically learns patterns and makes predictions or decisions based on that data.\n",
    "\n",
    "Machine learning uses algorithms that identify relationships, detect patterns, and make predictions. These algorithms are trained using datasets that contain input (features) and sometimes output (labels). Once trained, the model can make predictions on new, unseen data.\n",
    "\n",
    "Types of Machine Learning\n",
    "\n",
    "Supervised Learning – The model is trained using labeled data (input and correct output are known).\n",
    "Examples: Predicting house prices, email spam detection.\n",
    "\n",
    "Unsupervised Learning – The model learns from unlabeled data and tries to find hidden patterns or groupings.\n",
    "Examples: Customer segmentation, market basket analysis.\n",
    "\n",
    "Reinforcement Learning – The model learns by interacting with an environment and receiving rewards or penalties for its actions.\n",
    "Examples: Self-driving cars, game-playing AI.\n",
    "\n",
    "Applications of Machine Learning\n",
    "\n",
    "Recommendation Systems – Netflix, YouTube, and Amazon suggestions.\n",
    "\n",
    "Image and Speech Recognition – Face detection, voice assistants.\n",
    "\n",
    "Healthcare – Disease prediction, drug discovery.\n",
    "\n",
    "Finance – Fraud detection, credit scoring.\n",
    "\n",
    "Autonomous Vehicles – Navigation and obstacle detection.\n",
    "\n",
    "Natural Language Processing (NLP) – Chatbots and translation systems.\n",
    "\n",
    "Conclusion\n",
    "\n",
    "Machine Learning enables computers to analyze data, identify patterns, and make decisions with minimal human intervention. It is a key technology driving innovations in many industries today and forms the backbone of modern AI systems.\n",
    "    \n",
    "    \"\"\",\n",
    "}\n",
    "\n",
    "for filepath, content in sample_texts.items():\n",
    "    with open(filepath, \"w\", encoding=\"utf-8\") as f:\n",
    "        f.write(content)\n",
    "print(\"✅ sample text files created!\")"
   ]
  },
  {
   "cell_type": "code",
   "execution_count": null,
   "id": "00df7d8a",
   "metadata": {},
   "outputs": [
    {
     "data": {
      "text/plain": [
       "[Document(metadata={'source': '../data/text_files/python_intro.txt'}, page_content='Introduction to Python\\n\\nPython is a high-level, interpreted, and general-purpose programming language. It was created by Guido van Rossum and first released in 1991. Python emphasizes code readability, using simple syntax that allows programmers to express ideas in fewer lines of code compared to other languages like Java or C++.\\n\\n⚙️ Key Features of Python\\n\\nEasy to Learn and Read – Python’s syntax is close to natural English, making it beginner-friendly.\\n\\nInterpreted Language – You don’t need to compile Python code; it runs line by line.\\n\\nDynamically Typed – You don’t have to declare variable types explicitly.\\n\\nExtensive Libraries – Python has powerful standard libraries (like math, os, datetime) and third-party ones (NumPy, Pandas, TensorFlow, etc.).\\n\\nPortable and Cross-Platform – The same code can run on Windows, macOS, or Linux.\\n\\nObject-Oriented and Functional – Supports both programming styles.\\n\\nOpen Source – Free to use and distribute.\\n\\n💡 What Can You Do with Python?\\n\\nPython is extremely versatile. It’s used in:\\n\\nWeb Development → Django, Flask\\n\\nData Science & Machine Learning → Pandas, NumPy, Scikit-learn, TensorFlow\\n\\nAutomation / Scripting → Automating repetitive tasks\\n\\nGame Development → Pygame\\n\\nCybersecurity → Ethical hacking tools and analysis\\n\\nArtificial Intelligence → Chatbots, NLP, Computer Vision\\n\\nInternet of Things (IoT) → Controlling hardware devices\\n\\n    ')]"
      ]
     },
     "execution_count": 13,
     "metadata": {},
     "output_type": "execute_result"
    }
   ],
   "source": [
    "### Text Loaders\n",
    "\n",
    "from langchain.document_loaders import TextLoader\n",
    "from langchain_community.document_loaders import TextLoader\n",
    "\n",
    "loader = TextLoader(\"../data/text_files/python_intro.txt\", encoding=\"utf-8\")\n",
    "loader.load()"
   ]
  },
  {
   "cell_type": "code",
   "execution_count": 18,
   "id": "07a1059c",
   "metadata": {},
   "outputs": [
    {
     "name": "stderr",
     "output_type": "stream",
     "text": [
      "100%|██████████| 2/2 [00:00<00:00, 999.60it/s]\n"
     ]
    },
    {
     "data": {
      "text/plain": [
       "[Document(metadata={'source': '..\\\\data\\\\text_files\\\\machine_learning_intro.txt'}, page_content='Machine Learning is a branch of Artificial Intelligence (AI) that focuses on creating systems that can learn from data and improve their performance over time without being explicitly programmed.\\n\\nIn traditional programming, a developer writes a set of rules for the computer to follow. In machine learning, instead of giving rules, we feed the computer a large amount of data, and the system automatically learns patterns and makes predictions or decisions based on that data.\\n\\nMachine learning uses algorithms that identify relationships, detect patterns, and make predictions. These algorithms are trained using datasets that contain input (features) and sometimes output (labels). Once trained, the model can make predictions on new, unseen data.\\n\\nTypes of Machine Learning\\n\\nSupervised Learning – The model is trained using labeled data (input and correct output are known).\\nExamples: Predicting house prices, email spam detection.\\n\\nUnsupervised Learning – The model learns from unlabeled data and tries to find hidden patterns or groupings.\\nExamples: Customer segmentation, market basket analysis.\\n\\nReinforcement Learning – The model learns by interacting with an environment and receiving rewards or penalties for its actions.\\nExamples: Self-driving cars, game-playing AI.\\n\\nApplications of Machine Learning\\n\\nRecommendation Systems – Netflix, YouTube, and Amazon suggestions.\\n\\nImage and Speech Recognition – Face detection, voice assistants.\\n\\nHealthcare – Disease prediction, drug discovery.\\n\\nFinance – Fraud detection, credit scoring.\\n\\nAutonomous Vehicles – Navigation and obstacle detection.\\n\\nNatural Language Processing (NLP) – Chatbots and translation systems.\\n\\nConclusion\\n\\nMachine Learning enables computers to analyze data, identify patterns, and make decisions with minimal human intervention. It is a key technology driving innovations in many industries today and forms the backbone of modern AI systems.\\n\\n    '),\n",
       " Document(metadata={'source': '..\\\\data\\\\text_files\\\\python_intro.txt'}, page_content='Introduction to Python\\n\\nPython is a high-level, interpreted, and general-purpose programming language. It was created by Guido van Rossum and first released in 1991. Python emphasizes code readability, using simple syntax that allows programmers to express ideas in fewer lines of code compared to other languages like Java or C++.\\n\\n⚙️ Key Features of Python\\n\\nEasy to Learn and Read – Python’s syntax is close to natural English, making it beginner-friendly.\\n\\nInterpreted Language – You don’t need to compile Python code; it runs line by line.\\n\\nDynamically Typed – You don’t have to declare variable types explicitly.\\n\\nExtensive Libraries – Python has powerful standard libraries (like math, os, datetime) and third-party ones (NumPy, Pandas, TensorFlow, etc.).\\n\\nPortable and Cross-Platform – The same code can run on Windows, macOS, or Linux.\\n\\nObject-Oriented and Functional – Supports both programming styles.\\n\\nOpen Source – Free to use and distribute.\\n\\n💡 What Can You Do with Python?\\n\\nPython is extremely versatile. It’s used in:\\n\\nWeb Development → Django, Flask\\n\\nData Science & Machine Learning → Pandas, NumPy, Scikit-learn, TensorFlow\\n\\nAutomation / Scripting → Automating repetitive tasks\\n\\nGame Development → Pygame\\n\\nCybersecurity → Ethical hacking tools and analysis\\n\\nArtificial Intelligence → Chatbots, NLP, Computer Vision\\n\\nInternet of Things (IoT) → Controlling hardware devices\\n\\n    ')]"
      ]
     },
     "execution_count": 18,
     "metadata": {},
     "output_type": "execute_result"
    }
   ],
   "source": [
    "### Directory Loader\n",
    "from langchain_community.document_loaders import DirectoryLoader\n",
    "\n",
    "## load all the text files from the directory\n",
    "dir_loader = DirectoryLoader(\"../data/text_files\",\n",
    "glob = \"**/*.txt\", ## pattern to match files\n",
    "loader_cls = TextLoader,\n",
    "loader_kwargs = {\"encoding\":\"utf-8\"},\n",
    "show_progress= True\n",
    ")\n",
    "dir_loader.load()"
   ]
  },
  {
   "cell_type": "code",
   "execution_count": null,
   "id": "4d9be022",
   "metadata": {},
   "outputs": [],
   "source": [
    "### Directory Loader\n",
    "from langchain_community.document_loaders import PyPDFLoader, PyMuPDFLoader\n",
    "\n",
    "\n",
    "## load all the text files from the directory\n",
    "dir_loader = DirectoryLoader(\"../data/pdf\",\n",
    "glob = \"**/*.pdf\", ## pattern to match files\n",
    "loader_cls = PyMuPDFLoader,\n",
    "loader_kwargs = {\"encoding\":\"utf-8\"},\n",
    "show_progress= True\n",
    ")\n",
    "pdf_documents = dir_loader.load()\n",
    "pdf_documents"
   ]
  }
 ],
 "metadata": {
  "kernelspec": {
   "display_name": "Langchain_RAG",
   "language": "python",
   "name": "python3"
  },
  "language_info": {
   "codemirror_mode": {
    "name": "ipython",
    "version": 3
   },
   "file_extension": ".py",
   "mimetype": "text/x-python",
   "name": "python",
   "nbconvert_exporter": "python",
   "pygments_lexer": "ipython3",
   "version": "3.11.11"
  }
 },
 "nbformat": 4,
 "nbformat_minor": 5
}
